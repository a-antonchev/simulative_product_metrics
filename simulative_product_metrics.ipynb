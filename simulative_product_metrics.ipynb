{
 "cells": [
  {
   "cell_type": "markdown",
   "metadata": {
    "id": "ZDRdOrZk6l2v"
   },
   "source": [
    "## Расчет продуктовых метрик. 3 кейс курса Аналитик данных"
   ]
  },
  {
   "cell_type": "markdown",
   "metadata": {},
   "source": [
    "В этом кейсе необходимо рассчитать метрики:\n",
    "\n",
    "- retention\n",
    "- rolling retention\n",
    "- lifetime\n",
    "- churn rate\n",
    "- mau\n",
    "- wau"
   ]
  },
  {
   "cell_type": "markdown",
   "metadata": {
    "id": "vByZhhSN7CWK"
   },
   "source": [
    "Перед началом решения задачи выполните следующую ячейку - в ней скачиваются нужные файлы"
   ]
  },
  {
   "cell_type": "code",
   "execution_count": null,
   "metadata": {
    "id": "sCLgMqjX7HQK"
   },
   "outputs": [],
   "source": [
    "!wget https://gist.github.com/a-antonchev/7850fe93344af6ba431219e820f6647a/raw/registrations.csv\n",
    "!wget https://gist.github.com/a-antonchev/93388a128117ab6ba85225b9866f2e35/raw/entries.csv"
   ]
  },
  {
   "cell_type": "markdown",
   "metadata": {
    "id": "mN7leG1J7mBT"
   },
   "source": [
    "Файлами для работы являются `registrations.csv` и `entries.csv`.\\\n",
    "В них хранятся данные о регистрациях пользователей и входа на платформу соответственно."
   ]
  },
  {
   "cell_type": "markdown",
   "metadata": {},
   "source": [
    "### 0. Предобработка данных"
   ]
  },
  {
   "cell_type": "code",
   "execution_count": 1,
   "metadata": {
    "id": "jV0cyeTvwu2u"
   },
   "outputs": [],
   "source": [
    "from datetime import datetime, date"
   ]
  },
  {
   "cell_type": "code",
   "execution_count": 2,
   "metadata": {
    "id": "tlVLAtkumVQd"
   },
   "outputs": [],
   "source": [
    "def get_data(file):\n",
    "    \"\"\"\n",
    "    Считать данные из входного файла и преобразовать в список\n",
    "    Parameters:\n",
    "    -----------\n",
    "    file : {file}\t\n",
    "\t       Файл формата CSV\n",
    "    Returns:\n",
    "    --------\n",
    "    result : {list}\n",
    "             Список списков, каждый элемент представляет собой пару [id пользователя, дата]\n",
    "    \"\"\"\n",
    "    with open(file, 'r') as f:\n",
    "        f.readline() # считать первую строку с заголовками столбцов, она не требуется\n",
    "        result = f.read().split('\\n')\n",
    "    # разделить каждую строку по разделителю ';'\n",
    "    result = [result[i].split(';') for i in range(len(result))]\n",
    "    # преобразовать строковую дату в date (можно оставить и datetime)\n",
    "    result = [[result[i][0], datetime.strptime(result[i][1], '%Y-%m-%d').date()] for i in range(len(result))]\n",
    "    return result"
   ]
  },
  {
   "cell_type": "code",
   "execution_count": null,
   "metadata": {},
   "outputs": [],
   "source": [
    "registrations = get_data('registrations.csv') # создать список регистраций пользователей\n",
    "entries = get_data('entries.csv') # создать список заходов пользователей\n",
    "print(entries[:3])\n",
    "print(registrations[:3])"
   ]
  },
  {
   "cell_type": "code",
   "execution_count": null,
   "metadata": {},
   "outputs": [],
   "source": [
    "# Сформировать список заходов пользователей на платформу (user_id, entry_date, date_diff),\\\n",
    "# где date_diff - разница в днях между датой регистрации и датой захода\n",
    "\n",
    "entries_temp = []\n",
    "while entries:\n",
    "    # изъять последний элемент (user_id, entry_date)\n",
    "    last = entries.pop()\n",
    "    # найти user_id\n",
    "    used_id = last[0]\n",
    "    for r in registrations:\n",
    "        # ищем в регистрациях элемент с выбранным user_id\n",
    "        if r[0] == used_id:\n",
    "            # рассчитать разницу в днях между датой регистрации и датой захода\n",
    "            day_diff = (last[1] - r[1]).days\n",
    "            # добавить разницу в днях в элемент => (user_id, entry_date, date_diff)\n",
    "            last.append(day_diff)\n",
    "            # преобразовать элемент в кортеж (чтобы потом 'прогнать' через set и оставить только уникальные элементы) и добавить в новый список\n",
    "            entries_temp.append(tuple(last))\n",
    "            break\n",
    "\n",
    "# 'прогнать' через set, чтобы оставить только уникальные заходы\n",
    "entries = list(set(entries_temp))\n",
    "entries[:3]"
   ]
  },
  {
   "cell_type": "markdown",
   "metadata": {
    "id": "b1Nnzlt07sqE"
   },
   "source": [
    "### 1. Посчитайте Retention 15 дня (в процентах) для пользователей, зарегистрированных в январе\n",
    "Cохраните результат в переменную `retention_15_day`\n",
    "\n",
    "Примечание: результат округлите до 5 знаков после запятой"
   ]
  },
  {
   "cell_type": "code",
   "execution_count": null,
   "metadata": {
    "id": "ZGlpv1lyo0Ad"
   },
   "outputs": [],
   "source": [
    "# расчитать количество заходов в заданный день 'day'\n",
    "# отбираем user_id, у которых разница в днях между регистрацией и заходом равна 'day' и которые зарегистрировались в январе\n",
    "# считаем количество (len) user_id\n",
    "\n",
    "# количество заходов в день 0\n",
    "entries_0_day = len([d[0] for d in entries if d[2] == 0 and d[1] <= date(2021, 1, 31) and d[1] >= date(2021, 1, 1)])\n",
    "# количество заходов в день 15\n",
    "entries_15_day = len([d[0] for d in entries if d[2] == 15 and d[1] <= date(2021, 1, 31) and d[1] >= date(2021, 1, 1)])\n",
    "\n",
    "retention_15_day = round(entries_15_day * 100.0 / entries_0_day, 5)\n",
    "\n",
    "print(f'Retention 15 дня: {retention_15_day}')"
   ]
  },
  {
   "cell_type": "markdown",
   "metadata": {
    "id": "WDnU19Ml91HH"
   },
   "source": [
    "### 2. Посчитайте Rolling-retention 30 дня (в процентах) для пользователей из той же когорты\n",
    "Сохраните результат в переменную `rolling_retention`\n",
    "\n",
    "Примечание: результат округлите до 5 знаков после запятой"
   ]
  },
  {
   "cell_type": "code",
   "execution_count": null,
   "metadata": {
    "id": "7dSANHDYtKIJ"
   },
   "outputs": [],
   "source": [
    "# количество заходов в день 0 или позже (применить отбор уникальных user_id через set)\n",
    "entries_0_day_and_later = len({d[0] for d in entries if d[2] >= 0 and d[1] <= date(2021, 1, 31) and d[1] >= date(2021, 1, 1)})\n",
    "# количество заходов в день 30 или позже\n",
    "entries_30_day_and_later = len({d[0] for d in entries if d[2] >= 30 and d[1] <= date(2021, 1, 31) and d[1] >= date(2021, 1, 1)})\n",
    "\n",
    "rolling_retention = round(entries_30_day_and_later * 100.0 / entries_0_day_and_later, 5)\n",
    "\n",
    "print(f'Rolling-retention 30 дня: {rolling_retention}')"
   ]
  },
  {
   "cell_type": "code",
   "execution_count": null,
   "metadata": {},
   "outputs": [],
   "source": [
    "entries_30_day_and_later, entries_0_day_and_later"
   ]
  },
  {
   "cell_type": "markdown",
   "metadata": {
    "id": "JX6DyUG0n4Ic"
   },
   "source": [
    "### 3. Посчитайте Lifetime по всем пользователям, как интеграл от n-day retention\n",
    "Сохраните результат в переменную `lifetime`\n",
    "\n",
    "Примечание: результат округлите до 5 знаков после запятой"
   ]
  },
  {
   "cell_type": "code",
   "execution_count": null,
   "metadata": {
    "id": "UH0mP0gVoKBJ"
   },
   "outputs": [],
   "source": [
    "date_diff_set = {el[2] for el in entries} # отобрать уникальные 'date_diff' через преобразование в множество\n",
    "users = len(registrations) # рассчитать количество пользователей, как длину списка регистраций\n",
    "\n",
    "entries_all = 0\n",
    "\n",
    "# пройтись по всем датам\n",
    "for day in date_diff_set:\n",
    "    # суммировать количество заходов в каждый 'date_diff' = интеграл по n-day retention\n",
    "    entries_all += len({d[0] for d in entries if d[2] == day})\n",
    "\n",
    "lifetime = round(entries_all / users, 5)\n",
    "\n",
    "print(f'Lifetime: {lifetime}')"
   ]
  },
  {
   "cell_type": "markdown",
   "metadata": {
    "id": "qS5kt0_3jYo3"
   },
   "source": [
    "### 4. Посчитайте Churn rate 29 дня (в долях), посчитанный по всем пользователям\n",
    "Сохраните результат в переменную `churn_29`"
   ]
  },
  {
   "cell_type": "code",
   "execution_count": null,
   "metadata": {
    "id": "DZDGjeZjf4BL"
   },
   "outputs": [],
   "source": [
    "# отобрать уникальные user_id (через set), у которых разница в днях между регистрацией и заходом больше или равна 'day'\n",
    "# то есть, эти пользователи заходили в 29 день и после = оставшиеся пользователи\n",
    "user_29 = len({d[0] for d in entries if d[2] >= 29})\n",
    "\n",
    "churn_29 = (users - user_29) / users\n",
    "\n",
    "print(f'Churn rate 29 дня: {churn_29}')"
   ]
  },
  {
   "cell_type": "markdown",
   "metadata": {
    "id": "siUgQYp8wkgg"
   },
   "source": [
    "### 5. Посчитайте Mau, Wau, Dau за последний месяц/неделю/день записей\n",
    "Сохраните результат в переменные `dec_mau`, `dec_wau`, `dec_dau` соответственно\n",
    "\n",
    "Примечание: последний месяц записей - декабрь. Поэтому `mau` рассчитываем для декабря (2021 года), для `wau` берем последнюю неделю - с 25 по 31 декабря, и для `dau` соответственно последний день - 31 декабря."
   ]
  },
  {
   "cell_type": "code",
   "execution_count": null,
   "metadata": {
    "id": "loFqcJQQ0JaY"
   },
   "outputs": [],
   "source": [
    "dec_mau = len({el[0] for el in entries if el[1].year == 2021 and el[1].month == 12})\n",
    "dec_wau = len({el[0] for el in entries if el[1] >= date(2021, 12, 25) and el[1] <= date(2021, 12, 31)})\n",
    "dec_dau = len({el[0] for el in entries if el[1] == date(2021, 12, 31)})\n",
    "\n",
    "print(f'MAU в декабре: {dec_mau}')\n",
    "print(f'WAU в декабре: {dec_wau}')\n",
    "print(f'DAU в декабре: {dec_dau}')"
   ]
  },
  {
   "cell_type": "markdown",
   "metadata": {
    "id": "HD1wy9bs-KVP"
   },
   "source": [
    "### 5. Посчитайте Mau, Wau, Dau усредненные\n",
    "Сохраните результат в переменные `avg_mau`, `avg_wau`, `avg_dau` соответственно\n",
    "\n",
    "Примечание: результаты округлите до 5 знаков после запятой"
   ]
  },
  {
   "cell_type": "code",
   "execution_count": null,
   "metadata": {
    "id": "al3zEBCInNCd"
   },
   "outputs": [],
   "source": [
    "years = {el[1].year for el in entries} # получить множество всех годов из дат entries\n",
    "months = {el[1].month for el in entries} # получить множество всех месяцев из дат entries\n",
    "pre_mau = 0\n",
    "# для каждого года и месяца расчитать количество уникальных пользователей накопительным итогом\n",
    "for year in years:\n",
    "    for month in months:\n",
    "        pre_mau += len({el[0] for el in entries if el[1].year == year and el[1].month == month})\n",
    "\n",
    "avg_mau = round(pre_mau / 12, 5)\n",
    "\n",
    "print(f'MAU усредненный: {avg_mau}')"
   ]
  },
  {
   "cell_type": "code",
   "execution_count": null,
   "metadata": {
    "id": "pNo-djDnVnSs"
   },
   "outputs": [],
   "source": [
    "# avg_wau вариант 1, считаем номера недель по ISO 8601\n",
    "\n",
    "pre_wau = 0\n",
    "for i in range(1, 54):\n",
    "    pre_wau += len({el[0] for el in entries if el[1].isocalendar().week == i})\n",
    "\n",
    "avg_wau = round(pre_wau / 53, 5) # здесь 53 части\n",
    "\n",
    "print(f'WAU усредненный: {avg_wau}')"
   ]
  },
  {
   "cell_type": "code",
   "execution_count": null,
   "metadata": {
    "id": "rQVp0dkzkhHD"
   },
   "outputs": [],
   "source": [
    "dates = {el[1] for el in entries} # получить множество всех дат из дат entries\n",
    "pre_dau = 0\n",
    "for date in dates:\n",
    "    # для каждой даты расчитать количество уникальных пользователей накопительным итогом\n",
    "    pre_dau += len({el[0] for el in entries if el[1] == date})\n",
    "\n",
    "avg_dau = round(pre_dau / len(dates), 5)\n",
    "avg_wau = round(pre_wau / 53, 5) # здесь 53 части\n",
    "\n",
    "print(f'DAU усредненный: {avg_dau}')"
   ]
  }
 ],
 "metadata": {
  "colab": {
   "provenance": []
  },
  "kernelspec": {
   "display_name": ".venv",
   "language": "python",
   "name": "python3"
  },
  "language_info": {
   "codemirror_mode": {
    "name": "ipython",
    "version": 3
   },
   "file_extension": ".py",
   "mimetype": "text/x-python",
   "name": "python",
   "nbconvert_exporter": "python",
   "pygments_lexer": "ipython3",
   "version": "3.11.2"
  }
 },
 "nbformat": 4,
 "nbformat_minor": 4
}
