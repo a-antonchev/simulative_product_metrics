{
  "cells": [
    {
      "cell_type": "markdown",
      "metadata": {
        "id": "ZDRdOrZk6l2v"
      },
      "source": [
        "## 3 кейс\n",
        "В этом кейсе вы будете рассчитывать:\n",
        "\n",
        "- retention\n",
        "- rolling retention\n",
        "- lifetime\n",
        "- churn rate\n",
        "- mau\n",
        "- wau"
      ]
    },
    {
      "cell_type": "markdown",
      "metadata": {
        "id": "vByZhhSN7CWK"
      },
      "source": [
        "**Важно**\n",
        "\n",
        "Перед началом решения задачи выполните следующую ячейку - в ней скачиваются нужные файлы"
      ]
    },
    {
      "cell_type": "code",
      "execution_count": null,
      "metadata": {
        "id": "sCLgMqjX7HQK"
      },
      "outputs": [],
      "source": [
        "!wget https://gist.github.com/Vs8th/739269a03f2f4a7396d04d6739da3771/raw/registrations.csv\n",
        "!wget https://gist.github.com/Vs8th/aacb80595d1d6aaa2e31eb735f8bc644/raw/entries.csv\n",
        "!wget https://gist.github.com/Vs8th/0e827e9a608117345dd6585ab81e8c86/raw/metrics.txt"
      ]
    },
    {
      "cell_type": "markdown",
      "metadata": {
        "id": "mN7leG1J7mBT"
      },
      "source": [
        "Файлами для работы являются `registrations.csv` и `entries.csv`. В них хранятся данные о регистрациях пользователей и входа на платформу соответственно."
      ]
    },
    {
      "cell_type": "code",
      "execution_count": null,
      "metadata": {
        "cellView": "form",
        "id": "wNfJ8RMWNT5R"
      },
      "outputs": [],
      "source": [
        "#@title ✏️ Проверка: чтобы проверить свое решение запустите код в этой ячейке\n",
        "# Открываем файл с правильными ответами\n",
        "with open('metrics.txt', 'r') as f:\n",
        "    answers = f.read().split('\\n')\n",
        "\n",
        "correct_answer = float(answers[0])\n",
        "\n",
        "try:\n",
        "    assert retention_15_day == correct_answer\n",
        "except AssertionError:\n",
        "    print('Ответы не совпадают')\n",
        "else:\n",
        "    print('Поздравляем, Вы справились!')"
      ]
    },
    {
      "cell_type": "markdown",
      "metadata": {
        "id": "b1Nnzlt07sqE"
      },
      "source": [
        "### 1. Посчитайте Retention 15 дня (в процентах) для пользователей, зарегистрированных в январе\n",
        "Cохраните результат в переменную `retention_15_day`\n",
        "\n",
        "Примечание: результат округлите до 5 знаков после запятой"
      ]
    },
    {
      "cell_type": "code",
      "execution_count": null,
      "metadata": {
        "id": "jV0cyeTvwu2u"
      },
      "outputs": [],
      "source": [
        "import csv\n",
        "from datetime import datetime, timedelta, date\n",
        "from dateutil import relativedelta, rrule\n",
        "from statistics import mean"
      ]
    },
    {
      "cell_type": "code",
      "execution_count": null,
      "metadata": {
        "id": "tlVLAtkumVQd"
      },
      "outputs": [],
      "source": [
        "# предобработка данных\n",
        "\n",
        "def get_data(file):\n",
        "    with open(file, 'r') as f:\n",
        "        f.readline()\n",
        "        result = f.read().split('\\n')\n",
        "    # разделить каждую строку по разделителю ';'\n",
        "    result = [result[i].split(';') for i in range(len(result))]\n",
        "    # преобразовать строковую дату в date (можно оставить и datetime)\n",
        "    result = [[result[i][0], datetime.strptime(result[i][1], '%Y-%m-%d').date()] for i in range(len(result))]\n",
        "    return result\n",
        "\n",
        "registrations = get_data('registrations.csv')\n",
        "entries = get_data('entries.csv')\n",
        "\n",
        "# сформировать список с элементами ('user_id', 'entry_date', 'date_diff')\n",
        "entries_proc = []\n",
        "while entries:\n",
        "    # изъять последний элемент ('user_id', 'entry_date')\n",
        "    last = entries.pop()\n",
        "    # найти user_id\n",
        "    used_id = last[0]\n",
        "    for r in registrations:\n",
        "        # ищем в регистрациях элемент с выбранным user_id\n",
        "        if r[0] == used_id:\n",
        "            # рассчитать разницу в днях между датой регистрации и датой захода\n",
        "            day_diff = (last[1] - r[1]).days\n",
        "            # добавить разницу в днях в элемент => ('user_id', 'entry_date', 'date_diff')\n",
        "            last.append(day_diff)\n",
        "            # преобразовать элемент в кортеж (чтобы потом оставить только уникальные элементы) и добавить в новый список\n",
        "            entries_proc.append(tuple(last))\n",
        "            break\n",
        "\n",
        "# прогнать через set, чтобы оставить только уникальные заходы\n",
        "entries_proc = list(set(entries_proc))\n",
        "entries_proc[:5]"
      ]
    },
    {
      "cell_type": "code",
      "execution_count": null,
      "metadata": {
        "id": "whVUxp1Ir98g"
      },
      "outputs": [],
      "source": [
        "# вариант получения данных с помощью csv\n",
        "def get_data(file):\n",
        "    with open(file, 'r') as f:\n",
        "        reader = csv.reader(f, delimiter =';')\n",
        "        reader.__next__()\n",
        "        result = [[row[0], datetime.strptime(row[1], '%Y-%m-%d').date()] for row in reader]\n",
        "        return result"
      ]
    },
    {
      "cell_type": "code",
      "execution_count": null,
      "metadata": {
        "id": "UYqvY7zn2x__"
      },
      "outputs": [],
      "source": [
        "# вариант цикла обогащения entries\n",
        "for e in entries:\n",
        "    for r in registrations:\n",
        "        if e[0] == r[0]:\n",
        "            day_diff = (e[1] - r[1]).days\n",
        "            e.append(day_diff)\n",
        "            break"
      ]
    },
    {
      "cell_type": "code",
      "execution_count": null,
      "metadata": {
        "id": "ZGlpv1lyo0Ad"
      },
      "outputs": [],
      "source": [
        "# расчитать количество заходов в заданный день 'day'\n",
        "# отбираем user_id, у которых разница в днях между регистрацией и заходом равна 'day' и которые зарегистрировались в январе\n",
        "# считаем количество (len) user_id\n",
        "\n",
        "# количество заходов в день 0\n",
        "entries_0_day = len([d[0] for d in entries_proc if d[2] == 0 and d[1] <= date(2021, 1, 31) and d[1] >= date(2021, 1, 1)])\n",
        "# количество заходов в день 15\n",
        "entries_15_day = len([d[0] for d in entries_proc if d[2] == 15 and d[1] <= date(2021, 1, 31) and d[1] >= date(2021, 1, 1)])\n",
        "\n",
        "retention_15_day = round(entries_15_day * 100.0 / entries_0_day, 5)\n",
        "retention_15_day"
      ]
    },
    {
      "cell_type": "markdown",
      "metadata": {
        "id": "WDnU19Ml91HH"
      },
      "source": [
        "### 2. Посчитайте Rolling-retention 30 дня (в процентах) для пользователей из той же когорты\n",
        "Сохраните результат в переменную `rolling_retention`\n",
        "\n",
        "Примечание: результат округлите до 5 знаков после запятой"
      ]
    },
    {
      "cell_type": "code",
      "execution_count": null,
      "metadata": {
        "id": "7dSANHDYtKIJ"
      },
      "outputs": [],
      "source": [
        "# количество заходов в день 0 или позже (применить отбор уникальных user_id через set)\n",
        "entries_0_day_and_later = len({d[0] for d in entries_proc if d[2] >= 0 and d[1] <= date(2021, 1, 31) and d[1] >= date(2021, 1, 1)})\n",
        "# количество заходов в день 30 или позже\n",
        "entries_30_day_and_later = len({d[0] for d in entries_proc if d[2] >= 30 and d[1] <= date(2021, 1, 31) and d[1] >= date(2021, 1, 1)})\n",
        "\n",
        "rolling_retention = round(entries_30_day_and_later * 100.0 / entries_0_day_and_later, 5)\n",
        "rolling_retention"
      ]
    },
    {
      "cell_type": "markdown",
      "metadata": {
        "id": "JX6DyUG0n4Ic"
      },
      "source": [
        "### 3. Посчитайте Lifetime по всем пользователям, посчитанный как интеграл от n-day retention\n",
        "Сохраните результат в переменную `lifetime`\n",
        "\n",
        "Примечание: результат округлите до 5 знаков после запятой"
      ]
    },
    {
      "cell_type": "code",
      "execution_count": null,
      "metadata": {
        "id": "UH0mP0gVoKBJ"
      },
      "outputs": [],
      "source": [
        "date_diff_set = {el[2] for el in entries_proc} # отобрать уникальные 'date_diff' через множество\n",
        "users = len(registrations) # рассчитать количество пользователей\n",
        "\n",
        "entries_all = 0\n",
        "\n",
        "# пройтись по всем датам\n",
        "for day in date_diff_set:\n",
        "    # суммировать количество заходов в каждый 'date_diff' = интеграл по n-day retention\n",
        "    entries_all += len({d[0] for d in entries_proc if d[2] == day})\n",
        "\n",
        "lifetime = round(entries_all / users, 5)\n",
        "lifetime"
      ]
    },
    {
      "cell_type": "markdown",
      "metadata": {
        "id": "qS5kt0_3jYo3"
      },
      "source": [
        "### 4. Посчитайте Churn rate 29 дня (в долях), посчитанный по всем пользователям\n",
        "Сохраните результат в переменную `churn_29`"
      ]
    },
    {
      "cell_type": "code",
      "execution_count": null,
      "metadata": {
        "id": "DZDGjeZjf4BL"
      },
      "outputs": [],
      "source": [
        "# отобрать уникальные user_id (через set), у которых разница в днях между регистрацией и заходом больше или равна 'day'\n",
        "# то есть, эти пользователи заходили в 29 день и после = оставшиеся пользователи\n",
        "user_29 = len({d[0] for d in entries_proc if d[2] >= 29})\n",
        "\n",
        "churn_29 = (users - user_29) / users\n",
        "churn_29"
      ]
    },
    {
      "cell_type": "markdown",
      "metadata": {
        "id": "siUgQYp8wkgg"
      },
      "source": [
        "### 5. Посчитайте Mau, Wau, Dau за последний месяц/неделю/день записей\n",
        "Сохраните результат в переменные `dec_mau`, `dec_wau`, `dec_dau` соответственно\n",
        "\n",
        "Примечание: последний месяц записей - декабрь. Поэтому `mau` рассчитываем для декабря (2021 года), для `wau` берем последнюю неделю - с 25 по 31 декабря, и для `dau` соответственно последний день - 31 декабря."
      ]
    },
    {
      "cell_type": "code",
      "execution_count": null,
      "metadata": {
        "id": "loFqcJQQ0JaY"
      },
      "outputs": [],
      "source": [
        "dec_mau = len({el[0] for el in entries_proc if el[1].year == 2021 and el[1].month == 12})\n",
        "dec_wau = len({el[0] for el in entries_proc if el[1] >= date(2021, 12, 25) and el[1] <= date(2021, 12, 31)})\n",
        "dec_dau = len({el[0] for el in entries_proc if el[1] == date(2021, 12, 31)})\n",
        "\n",
        "dec_mau, dec_wau, dec_dau"
      ]
    },
    {
      "cell_type": "markdown",
      "metadata": {
        "id": "HD1wy9bs-KVP"
      },
      "source": [
        "### 5. Посчитайте Mau, Wau, Dau усредненные\n",
        "Сохраните результат в переменные `avg_mau`, `avg_wau`, `avg_dau` соответственно\n",
        "\n",
        "Примечание: результаты округлите до 5 знаков после запятой"
      ]
    },
    {
      "cell_type": "code",
      "execution_count": null,
      "metadata": {
        "id": "al3zEBCInNCd"
      },
      "outputs": [],
      "source": [
        "years = {el[1].year for el in entries_proc} # получить множество всех годов из дат entries\n",
        "months = {el[1].month for el in entries_proc} # получить множество всех месяцув из дат entries\n",
        "pre_mau = 0\n",
        "# для каждого года и месяца расчитать количество уникальных пользователей накопительным итогом\n",
        "for year in years:\n",
        "    for month in months:\n",
        "        pre_mau += len({el[0] for el in entries_proc if el[1].year == year and el[1].month == month})\n",
        "\n",
        "avg_mau = round(pre_mau / 12, 5)\n",
        "avg_mau"
      ]
    },
    {
      "cell_type": "code",
      "execution_count": null,
      "metadata": {
        "id": "pNo-djDnVnSs"
      },
      "outputs": [],
      "source": [
        "# avg_wau вариант 1, считаем номера недель по ISO 8601\n",
        "\n",
        "pre_wau = 0\n",
        "for i in range(1, 54):\n",
        "    pre_wau += len({el[0] for el in entries_proc if el[1].isocalendar().week == i})\n",
        "\n",
        "avg_wau = round(pre_wau / 53, 5) # здесь 53 части\n",
        "avg_wau"
      ]
    },
    {
      "cell_type": "code",
      "execution_count": null,
      "metadata": {
        "id": "6K6YgJhrsEG0"
      },
      "outputs": [],
      "source": [
        "# avg_wau вариант 2, делим весь период на части по 7 дней, не учитывается остаток года (в данном случае дата 2021-12-31)\n",
        "\n",
        "# получить даты с периодом 7 дней = 'неделя'\n",
        "weeks = [sorted(list(dates))[i] for i in range(0, 365, 7)]\n",
        "\n",
        "# альтернативный вариант расчета\n",
        "# weeks = list(rrule.rrule(rrule.WEEKLY, dtstart=datetime(2021, 1, 1), until=datetime(2021, 12, 31)))\n",
        "\n",
        "pre_wau = 0\n",
        "for i in range(len(weeks) - 1):\n",
        "    pre_wau += len({el[0] for el in entries_proc if el[1] >= weeks[i] and el[1] < weeks[i+1]})\n",
        "\n",
        "avg_wau = round(pre_wau / 52, 5) # здесь 52 части по 7 дней\n",
        "avg_wau"
      ]
    },
    {
      "cell_type": "code",
      "execution_count": null,
      "metadata": {
        "id": "rQVp0dkzkhHD"
      },
      "outputs": [],
      "source": [
        "dates = {el[1] for el in entries_proc} # получить множество всех дат из дат entries\n",
        "pre_dau = 0\n",
        "for date in dates:\n",
        "    # для каждой даты расчитать количество уникальных пользователей накопительным итогом\n",
        "    pre_dau += len({el[0] for el in entries_proc if el[1] == date})\n",
        "\n",
        "avg_dau = round(pre_dau / len(dates), 5)\n",
        "avg_dau"
      ]
    }
  ],
  "metadata": {
    "colab": {
      "provenance": []
    },
    "kernelspec": {
      "display_name": "Python 3",
      "name": "python3"
    },
    "language_info": {
      "name": "python",
      "version": "3.11.2"
    }
  },
  "nbformat": 4,
  "nbformat_minor": 0
}
